{
 "cells": [
  {
   "cell_type": "code",
   "execution_count": 44,
   "id": "fce32ad1",
   "metadata": {},
   "outputs": [],
   "source": [
    "import pandas as pd\n",
    "import matplotlib.pyplot as plt\n",
    "import numpy as np"
   ]
  },
  {
   "cell_type": "code",
   "execution_count": 6,
   "id": "8b93087d",
   "metadata": {},
   "outputs": [
    {
     "name": "stdout",
     "output_type": "stream",
     "text": [
      "  iso_code continent     location       date  total_cases  new_cases\n",
      "0      AFG      Asia  Afghanistan  2/24/2020          1.0        1.0\n",
      "1      AFG      Asia  Afghanistan  2/25/2020          1.0        0.0\n",
      "2      AFG      Asia  Afghanistan  2/26/2020          1.0        0.0\n",
      "3      AFG      Asia  Afghanistan  2/27/2020          1.0        0.0\n",
      "4      AFG      Asia  Afghanistan  2/28/2020          1.0        0.0\n"
     ]
    }
   ],
   "source": [
    "c19_raw = pd.read_csv(r\"C:\\Users\\britt\\Documents\\Python\\cl-python-finalproject\\covid19_national.csv\")\n",
    "print(c19_raw.head())"
   ]
  },
  {
   "cell_type": "code",
   "execution_count": 7,
   "id": "4730ba91",
   "metadata": {},
   "outputs": [
    {
     "name": "stdout",
     "output_type": "stream",
     "text": [
      "Count of NaN: 7210\n",
      "New count of NaN: 0\n"
     ]
    }
   ],
   "source": [
    "# find NaN values in dataframe\n",
    "\n",
    "count_nan = c19_raw.isna().sum().sum()\n",
    "print('Count of NaN: ' + str(count_nan))\n",
    "\n",
    "# replace NaN with 0\n",
    "\n",
    "c19 = c19_raw.fillna(0)\n",
    "count_c19_new = c19.isna().sum().sum()\n",
    "print('New count of NaN: ' +str(count_c19_new))\n",
    "\n"
   ]
  },
  {
   "cell_type": "code",
   "execution_count": null,
   "id": "bd18711d",
   "metadata": {},
   "outputs": [],
   "source": []
  },
  {
   "cell_type": "code",
   "execution_count": 42,
   "id": "7c699e85",
   "metadata": {},
   "outputs": [
    {
     "name": "stdout",
     "output_type": "stream",
     "text": [
      "Average new cases each day: 5,336\n",
      "Highest number of new cases in a day: 880,812\n"
     ]
    }
   ],
   "source": [
    "# descriptives\n",
    "\n",
    "mean_new = c19[\"new_cases\"].mean()\n",
    "mean_new = \"{:,.0f}\".format(mean_new)\n",
    "print(\"Average new cases each day: \" + (mean_new))\n",
    "\n",
    "max_new = c19[\"new_cases\"].max()\n",
    "max_new = \"{:,.0f}\".format(max_new)\n",
    "print(\"Highest number of new cases in a day: \" + str(max_new))\n"
   ]
  },
  {
   "cell_type": "code",
   "execution_count": 52,
   "id": "7f6ba3c7",
   "metadata": {},
   "outputs": [],
   "source": [
    "#boxplot"
   ]
  },
  {
   "cell_type": "code",
   "execution_count": 56,
   "id": "e4b07781",
   "metadata": {},
   "outputs": [
    {
     "name": "stdout",
     "output_type": "stream",
     "text": [
      "Freedman-Diaconis number of bins: 29933\n"
     ]
    }
   ],
   "source": [
    "#calculate bins using Freedman-Diaconis method for hist\n",
    "x = c19.new_cases\n",
    "q25, q75 = np.percentile(x, [25, 75])\n",
    "bin_width = 2 * (q75 - q25) * len(x) ** (-1/3)\n",
    "bins = round((x.max() - x.min()) / bin_width)\n",
    "print(\"Freedman-Diaconis number of bins:\", bins)"
   ]
  },
  {
   "cell_type": "code",
   "execution_count": null,
   "id": "8709e8bb",
   "metadata": {},
   "outputs": [],
   "source": []
  },
  {
   "cell_type": "code",
   "execution_count": null,
   "id": "13b75ca6",
   "metadata": {},
   "outputs": [],
   "source": []
  },
  {
   "cell_type": "code",
   "execution_count": null,
   "id": "3e510d08",
   "metadata": {},
   "outputs": [],
   "source": []
  },
  {
   "cell_type": "code",
   "execution_count": null,
   "id": "ca352b60",
   "metadata": {},
   "outputs": [],
   "source": []
  },
  {
   "cell_type": "code",
   "execution_count": null,
   "id": "60c97aab",
   "metadata": {},
   "outputs": [],
   "source": []
  },
  {
   "cell_type": "code",
   "execution_count": null,
   "id": "42959d62",
   "metadata": {},
   "outputs": [],
   "source": []
  },
  {
   "cell_type": "code",
   "execution_count": null,
   "id": "97a2d3a9",
   "metadata": {},
   "outputs": [],
   "source": []
  }
 ],
 "metadata": {
  "kernelspec": {
   "display_name": "Python 3 (ipykernel)",
   "language": "python",
   "name": "python3"
  },
  "language_info": {
   "codemirror_mode": {
    "name": "ipython",
    "version": 3
   },
   "file_extension": ".py",
   "mimetype": "text/x-python",
   "name": "python",
   "nbconvert_exporter": "python",
   "pygments_lexer": "ipython3",
   "version": "3.9.7"
  }
 },
 "nbformat": 4,
 "nbformat_minor": 5
}
